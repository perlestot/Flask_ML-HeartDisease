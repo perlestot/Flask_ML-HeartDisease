{
 "cells": [
  {
   "cell_type": "raw",
   "metadata": {},
   "source": [
    "<html>\n",
    "  <head>\n",
    "    <title> Heart Disease Prediction </title>\n",
    "  </head>\n",
    "   <body>\n",
    "   <h3> Patient Profile <h3>\n",
    "   <h5>\n",
    "      <form action = \"https://heart-disease-logit-parin.herokuapp.com/result\" method = \"POST\">\n",
    "\t\t<p>Thalassemia</p> \n",
    "\t\t\t\t<input type=\"radio\" name=\"thal\" value=\"normal\"> Normal\n",
    "\t\t\t\t<input type=\"radio\" name=\"thal\" value=\"fixed defect\"> Fixed defect\n",
    "\t\t\t\t<input type=\"radio\" name=\"thal\" value=\"reversable defect\"> Reversable Defect\n",
    "        <p>Chest Pain</p>\n",
    "\t\t\t\t<input type=\"radio\" name=\"cp\" value=\"typical angina\"> Typical Angina\n",
    "\t\t\t\t<input type=\"radio\" name=\"cp\" value=\"atypical angina\"> Atypical Angina\n",
    "\t\t\t\t<input type=\"radio\" name=\"cp\" value=\"non anginal pain\"> Non-Anginal Pain\n",
    "\t\t\t\t<input type=\"radio\" name=\"cp\" value=\"asymptomatic\"> Asymptomatic\n",
    "\t\t<p>Slope</p>\n",
    "\t\t\t\t<input type=\"radio\" name=\"slope\" value=\"upsloping\"> Upsloping\n",
    "\t\t\t\t<input type=\"radio\" name=\"slope\" value=\"flat\"> Flat\n",
    "\t\t\t\t<input type=\"radio\" name=\"slope\" value=\"downsloping\"> Downsloping\n",
    "        <p>Exercise induced angina (exang)</p>\n",
    "\t\t\t\t<input type=\"radio\" name=\"exang\" value=1> Yes\n",
    "\t\t\t\t<input type=\"radio\" name=\"exang\" value=0> No\n",
    "        <p>Number of major vessels (0-3) colored by flourosopy</p>\n",
    "\t\t\t\t<input type=\"radio\" name=\"ca\" value=0> 0\n",
    "\t\t\t\t<input type=\"radio\" name=\"ca\" value=1> 1\n",
    "\t\t\t\t<input type=\"radio\" name=\"ca\" value=2> 2\n",
    "\t\t\t\t<input type=\"radio\" name=\"ca\" value=3> 3\n",
    "\t\t<p><input type = \"submit\" value = \"submit\" /></p>\n",
    "      </form>\n",
    "\t<h5>\n",
    "   </body>\n",
    "</html>\n"
   ]
  },
  {
   "cell_type": "code",
   "execution_count": 1,
   "metadata": {},
   "outputs": [
    {
     "data": {
      "text/plain": [
       "array([1, 0, 0, 1, 0, 0, 0, 1, 0, 0, 1, 2])"
      ]
     },
     "execution_count": 1,
     "metadata": {},
     "output_type": "execute_result"
    }
   ],
   "source": [
    "fmap = {\"normal\": [1, 0, 0],\n",
    "        \"fixed defect\": [0, 1, 0],\n",
    "        \"reversable defect\": [0, 0, 1],\n",
    "        \"typical angina\": [1, 0, 0, 0],\n",
    "        \"atypical angina\": [0, 1, 0, 0],\n",
    "        \"non anginal pain\": [0, 0, 1, 0],\n",
    "        \"asymptomatic\": [0, 0, 0, 1],\n",
    "        \"upsloping\": [1, 0, 0],\n",
    "        \"flat\": [0, 1, 0],\n",
    "        \"downsloping\": [0, 0, 1]}\n",
    "\n",
    "thal = \"normal\"\n",
    "cp = \"typical angina\"\n",
    "slope = \"upsloping\"\n",
    "exang = 1\n",
    "ca = 2\n",
    "\n",
    "import numpy as np\n",
    "np.array(fmap[thal] + fmap[cp] + fmap[slope] + [int(exang)] + [int(ca)])"
   ]
  },
  {
   "cell_type": "code",
   "execution_count": null,
   "metadata": {},
   "outputs": [],
   "source": []
  }
 ],
 "metadata": {
  "kernelspec": {
   "display_name": "Python 3",
   "language": "python",
   "name": "python3"
  },
  "language_info": {
   "codemirror_mode": {
    "name": "ipython",
    "version": 3
   },
   "file_extension": ".py",
   "mimetype": "text/x-python",
   "name": "python",
   "nbconvert_exporter": "python",
   "pygments_lexer": "ipython3",
   "version": "3.7.5"
  }
 },
 "nbformat": 4,
 "nbformat_minor": 2
}
